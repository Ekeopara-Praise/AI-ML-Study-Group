{
 "cells": [
  {
   "cell_type": "markdown",
   "id": "cf7cd3f3",
   "metadata": {},
   "source": [
    "## Developing a Simple URL Shortener using Python"
   ]
  },
  {
   "cell_type": "code",
   "execution_count": 1,
   "id": "b5cb66e1",
   "metadata": {},
   "outputs": [],
   "source": [
    "# install the pyshorteners  library\n",
    "\n",
    "# pip install pyshorteners "
   ]
  },
  {
   "cell_type": "code",
   "execution_count": 2,
   "id": "cd3ad2e8",
   "metadata": {},
   "outputs": [],
   "source": [
    "# import the library\n",
    "\n",
    "import pyshorteners as sh"
   ]
  },
  {
   "cell_type": "code",
   "execution_count": 3,
   "id": "1957a79c",
   "metadata": {},
   "outputs": [],
   "source": [
    "# define the link\n",
    "\n",
    "link = 'https://github.com/Ekeopara-Praise/Heart_Attack_Prediction/blob/master/Heart_Attack_Prediction.ipynb'"
   ]
  },
  {
   "cell_type": "code",
   "execution_count": 4,
   "id": "1857fb9e",
   "metadata": {},
   "outputs": [],
   "source": [
    "# create the shortener instance\n",
    "\n",
    "s = sh.Shortener()"
   ]
  },
  {
   "cell_type": "code",
   "execution_count": 5,
   "id": "f36fc67d",
   "metadata": {},
   "outputs": [
    {
     "name": "stdout",
     "output_type": "stream",
     "text": [
      "Kindly copy your shortened url link:  https://tinyurl.com/y447a76x\n"
     ]
    }
   ],
   "source": [
    "# print out the shortened url link\n",
    "print('Kindly copy your shortened url link: ', s.tinyurl.short(link))"
   ]
  },
  {
   "cell_type": "markdown",
   "id": "04f16443",
   "metadata": {},
   "source": [
    "## The End !!"
   ]
  }
 ],
 "metadata": {
  "kernelspec": {
   "display_name": "Python 3 (ipykernel)",
   "language": "python",
   "name": "python3"
  },
  "language_info": {
   "codemirror_mode": {
    "name": "ipython",
    "version": 3
   },
   "file_extension": ".py",
   "mimetype": "text/x-python",
   "name": "python",
   "nbconvert_exporter": "python",
   "pygments_lexer": "ipython3",
   "version": "3.9.7"
  }
 },
 "nbformat": 4,
 "nbformat_minor": 5
}
