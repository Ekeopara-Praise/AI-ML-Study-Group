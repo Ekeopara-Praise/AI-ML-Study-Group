{
 "cells": [
  {
   "cell_type": "markdown",
   "id": "bc403c47",
   "metadata": {},
   "source": [
    "## Developing a Simple URL Shortener using Python"
   ]
  },
  {
   "cell_type": "code",
   "execution_count": 1,
   "id": "8d7e5860",
   "metadata": {},
   "outputs": [],
   "source": [
    "# install the pyshorteners  library\n",
    "\n",
    "# pip install pyshorteners "
   ]
  },
  {
   "cell_type": "code",
   "execution_count": 2,
   "id": "12c21b7f",
   "metadata": {},
   "outputs": [],
   "source": [
    "# import the library\n",
    "\n",
    "import pyshorteners as sh"
   ]
  },
  {
   "cell_type": "code",
   "execution_count": 3,
   "id": "670c3c76",
   "metadata": {},
   "outputs": [],
   "source": [
    "# define the link\n",
    "\n",
    "link = 'https://github.com/Ekeopara-Praise/Heart_Attack_Prediction/blob/master/Heart_Attack_Prediction.ipynb'"
   ]
  },
  {
   "cell_type": "code",
   "execution_count": 4,
   "id": "7f0b72cf",
   "metadata": {},
   "outputs": [],
   "source": [
    "# create the shortener instance\n",
    "\n",
    "s = sh.Shortener()"
   ]
  },
  {
   "cell_type": "code",
   "execution_count": 5,
   "id": "3952ab61",
   "metadata": {},
   "outputs": [
    {
     "name": "stdout",
     "output_type": "stream",
     "text": [
      "Kindly copy your shortened url link:  https://tinyurl.com/y447a76x\n"
     ]
    }
   ],
   "source": [
    "# print out the shortened url link\n",
    "print('Kindly copy your shortened url link: ', s.tinyurl.short(link))"
   ]
  },
  {
   "cell_type": "markdown",
   "id": "eb5f57eb",
   "metadata": {},
   "source": [
    "## The End !!"
   ]
  }
 ],
 "metadata": {
  "kernelspec": {
   "display_name": "Python 3 (ipykernel)",
   "language": "python",
   "name": "python3"
  },
  "language_info": {
   "codemirror_mode": {
    "name": "ipython",
    "version": 3
   },
   "file_extension": ".py",
   "mimetype": "text/x-python",
   "name": "python",
   "nbconvert_exporter": "python",
   "pygments_lexer": "ipython3",
   "version": "3.9.7"
  }
 },
 "nbformat": 4,
 "nbformat_minor": 5
}
